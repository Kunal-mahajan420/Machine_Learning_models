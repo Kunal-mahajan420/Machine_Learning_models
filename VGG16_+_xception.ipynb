{
  "cells": [
    {
      "cell_type": "markdown",
      "metadata": {
        "id": "3CZmndGk3IF2"
      },
      "source": [
        "Please download the dataset from the below url"
      ]
    },
    {
      "cell_type": "code",
      "execution_count": null,
      "metadata": {
        "id": "j0pajGzZ3IF3",
        "outputId": "9e6e4844-f2df-425d-ecbb-6bd2b8f9982a"
      },
      "outputs": [
        {
          "name": "stderr",
          "output_type": "stream",
          "text": [
            "Copying files: 54305 files [07:32, 119.95 files/s]\n"
          ]
        }
      ],
      "source": [
        "import splitfolders\n",
        "splitfolders.ratio('SimpleDataset/color', output=\"output\", seed=1337, ratio=(.8, .2), group_prefix=None)"
      ]
    },
    {
      "cell_type": "markdown",
      "metadata": {
        "id": "zP74HHNp3IF4"
      },
      "source": []
    },
    {
      "cell_type": "code",
      "source": [
        "from google.colab import drive\n",
        "drive.mount('/content/drive')"
      ],
      "metadata": {
        "id": "aI3Hs9oJEfQu",
        "colab": {
          "base_uri": "https://localhost:8080/"
        },
        "outputId": "d244b6bc-c08f-45e3-9485-446ffcd3a2e3"
      },
      "execution_count": null,
      "outputs": [
        {
          "output_type": "stream",
          "name": "stdout",
          "text": [
            "Mounted at /content/drive\n"
          ]
        }
      ]
    },
    {
      "cell_type": "code",
      "source": [
        "!unzip '/content/drive/MyDrive/ColabNotebooks/output (2).zip' -d /content/drive/MyDrive/ColabNotebooks/"
      ],
      "metadata": {
        "id": "93uh_Q-r3LS8"
      },
      "execution_count": null,
      "outputs": []
    },
    {
      "cell_type": "code",
      "execution_count": null,
      "metadata": {
        "colab": {
          "base_uri": "https://localhost:8080/"
        },
        "id": "k59_EJFK3IF5",
        "outputId": "3bd6758b-1463-4456-dbf5-a44cf1a51716"
      },
      "outputs": [
        {
          "output_type": "stream",
          "name": "stdout",
          "text": [
            "2.8.0\n"
          ]
        }
      ],
      "source": [
        "import tensorflow as tf\n",
        "print(tf.__version__)"
      ]
    },
    {
      "cell_type": "code",
      "execution_count": null,
      "metadata": {
        "id": "Kh3peLR93IF6"
      },
      "outputs": [],
      "source": [
        "# import the libraries as shown below\n",
        "\n",
        "from tensorflow.keras.layers import Input, Lambda, Dense, Flatten\n",
        "from tensorflow.keras.models import Model\n",
        "from tensorflow.keras.applications.xception import Xception\n",
        "from tensorflow.keras.applications.vgg16 import VGG16\n",
        "from tensorflow.keras.preprocessing import image\n",
        "from tensorflow.keras.preprocessing.image import ImageDataGenerator,load_img\n",
        "from tensorflow.keras.models import Sequential\n",
        "from tensorflow.keras.applications.xception import Xception\n",
        "import numpy as np\n",
        "from glob import glob\n",
        "#import matplotlib.pyplot as plt"
      ]
    },
    {
      "cell_type": "code",
      "execution_count": null,
      "metadata": {
        "id": "YN3DbgqS3IF6"
      },
      "outputs": [],
      "source": [
        "# re-size all the images to this\n",
        "IMAGE_SIZE = [224, 224]\n",
        "\n",
        "train_path = '/content/drive/MyDrive/ColabNotebooks/output/train'\n",
        "valid_path = '/content/drive/MyDrive/ColabNotebooks/output/test'\n"
      ]
    },
    {
      "cell_type": "code",
      "execution_count": null,
      "metadata": {
        "id": "MGDCCN2e3IF8"
      },
      "outputs": [],
      "source": [
        "  # useful for getting number of output classes\n",
        "folders = glob('/content/drive/MyDrive/ColabNotebooks/output/train/*')"
      ]
    },
    {
      "cell_type": "code",
      "execution_count": null,
      "metadata": {
        "colab": {
          "base_uri": "https://localhost:8080/"
        },
        "id": "hqppMl7_3IF8",
        "outputId": "197362db-6e5c-491e-9b78-d264a4f9543a"
      },
      "outputs": [
        {
          "output_type": "execute_result",
          "data": {
            "text/plain": [
              "['/content/drive/MyDrive/ColabNotebooks/output/train/Tomato___Bacterial_spot',\n",
              " '/content/drive/MyDrive/ColabNotebooks/output/train/Tomato___Early_blight',\n",
              " '/content/drive/MyDrive/ColabNotebooks/output/train/Tomato___healthy',\n",
              " '/content/drive/MyDrive/ColabNotebooks/output/train/Tomato___Late_blight',\n",
              " '/content/drive/MyDrive/ColabNotebooks/output/train/Tomato___Leaf_Mold',\n",
              " '/content/drive/MyDrive/ColabNotebooks/output/train/Tomato___Septoria_leaf_spot',\n",
              " '/content/drive/MyDrive/ColabNotebooks/output/train/Tomato___Spider_mites Two-spotted_spider_mite',\n",
              " '/content/drive/MyDrive/ColabNotebooks/output/train/Tomato___Target_Spot',\n",
              " '/content/drive/MyDrive/ColabNotebooks/output/train/Tomato___Tomato_mosaic_virus',\n",
              " '/content/drive/MyDrive/ColabNotebooks/output/train/Tomato___Tomato_Yellow_Leaf_Curl_Virus']"
            ]
          },
          "metadata": {},
          "execution_count": 8
        }
      ],
      "source": [
        "folders"
      ]
    },
    {
      "cell_type": "code",
      "execution_count": null,
      "metadata": {
        "colab": {
          "base_uri": "https://localhost:8080/"
        },
        "id": "oIfMMdau3IF9",
        "outputId": "b79ffd3d-2f2c-446d-c664-32f4905bdf7f"
      },
      "outputs": [
        {
          "output_type": "execute_result",
          "data": {
            "text/plain": [
              "10"
            ]
          },
          "metadata": {},
          "execution_count": 10
        }
      ],
      "source": [
        "len(folders)"
      ]
    },
    {
      "cell_type": "code",
      "source": [],
      "metadata": {
        "id": "ach1cuhrErG2"
      },
      "execution_count": null,
      "outputs": []
    },
    {
      "cell_type": "code",
      "source": [
        "xception = Xception(input_shape=IMAGE_SIZE + [3], weights='imagenet', include_top=False)\n",
        "for layer in xception.layers:\n",
        "    layer.trainable = False\n",
        "    "
      ],
      "metadata": {
        "id": "w782choM4Qtt"
      },
      "execution_count": null,
      "outputs": []
    },
    {
      "cell_type": "code",
      "source": [
        "from keras import layers\n",
        "from keras.layers import Dense, Input, BatchNormalization, Activation\n",
        "from keras.layers import Conv2D, SeparableConv2D, MaxPooling2D, GlobalAveragePooling2D, GlobalMaxPooling2D\n"
      ],
      "metadata": {
        "id": "Z7iyp6TF7rLP"
      },
      "execution_count": null,
      "outputs": []
    },
    {
      "cell_type": "code",
      "source": [
        "vgg16 = VGG16(input_shape=IMAGE_SIZE + [3], weights='imagenet', include_top=False)\n",
        "\n",
        "\n",
        "# don't train existing weights\n",
        "for layer in vgg16.layers:\n",
        "    layer.trainable = False"
      ],
      "metadata": {
        "id": "y17RXIuUDzYO"
      },
      "execution_count": null,
      "outputs": []
    },
    {
      "cell_type": "code",
      "source": [
        "x = Conv2D(32, (3, 3), strides=(2, 2), use_bias=False)(vgg16.output)\n",
        "x = BatchNormalization()(x)\n",
        "x = Activation('relu')(x)\n",
        "x = Conv2D(64, (3, 3), use_bias=False)(x)\n",
        "x = BatchNormalization()(x)\n",
        "x = Activation('relu')(x)\n",
        "\n",
        "residual = Conv2D(128, (1, 1), strides=(2, 2), padding='same', use_bias=False)(x)\n",
        "residual = BatchNormalization()(residual)\n",
        "\n",
        "# Block 2\n",
        "x = SeparableConv2D(128, (3, 3), padding='same', use_bias=False)(x)\n",
        "x = BatchNormalization()(x)\n",
        "x = Activation('relu')(x)\n",
        "x = SeparableConv2D(128, (3, 3), padding='same', use_bias=False)(x)\n",
        "x = BatchNormalization()(x)\n",
        "\n",
        "# Block 2 Pool\n",
        "x = MaxPooling2D((3, 3), strides=(2, 2), padding='same')(x)\n",
        "x = layers.add([x, residual])\n",
        "\n",
        "residual = Conv2D(256, (1, 1), strides=(2, 2), padding='same', use_bias=False)(x)\n",
        "residual = BatchNormalization()(residual)\n",
        "\n",
        "# Block 3\n",
        "x = Activation('relu')(x)\n",
        "x = SeparableConv2D(256, (3, 3), padding='same', use_bias=False)(x)\n",
        "x = BatchNormalization()(x)\n",
        "x = Activation('relu')(x)\n",
        "x = SeparableConv2D(256, (3, 3), padding='same', use_bias=False)(x)\n",
        "x = BatchNormalization()(x)\n",
        "\n",
        "# Block 3 Pool\n",
        "x = MaxPooling2D((3, 3), strides=(2, 2), padding='same')(x)\n",
        "x = layers.add([x, residual])\n",
        "\n",
        "residual = Conv2D(728, (1, 1), strides=(2, 2), padding='same', use_bias=False)(x)\n",
        "residual = BatchNormalization()(residual)\n",
        "\n",
        "# Block 4\n",
        "x = Activation('relu')(x)\n",
        "x = SeparableConv2D(728, (3, 3), padding='same', use_bias=False)(x)\n",
        "x = BatchNormalization()(x)\n",
        "x = Activation('relu')(x)\n",
        "x = SeparableConv2D(728, (3, 3), padding='same', use_bias=False)(x)\n",
        "x = BatchNormalization()(x)\n",
        "\n",
        "x = MaxPooling2D((3, 3), strides=(2, 2), padding='same')(x)\n",
        "x = layers.add([x, residual])\n",
        "\n",
        "# Block 5 - 12\n",
        "for i in range(8):\n",
        "  residual = x\n",
        "\n",
        "  x = Activation('relu')(x)\n",
        "  x = SeparableConv2D(728, (3, 3), padding='same', use_bias=False)(x)\n",
        "  x = BatchNormalization()(x)\n",
        "  x = Activation('relu')(x)\n",
        "  x = SeparableConv2D(728, (3, 3), padding='same', use_bias=False)(x)\n",
        "  x = BatchNormalization()(x)\n",
        "  x = Activation('relu')(x)\n",
        "  x = SeparableConv2D(728, (3, 3), padding='same', use_bias=False)(x)\n",
        "  x = BatchNormalization()(x)\n",
        "\n",
        "  x = layers.add([x, residual])\n",
        "\n",
        "residual = Conv2D(1024, (1, 1), strides=(2, 2), padding='same', use_bias=False)(x)\n",
        "residual = BatchNormalization()(residual)\n",
        "\n",
        "# Block 13\n",
        "x = Activation('relu')(x)\n",
        "x = SeparableConv2D(728, (3, 3), padding='same', use_bias=False)(x)\n",
        "x = BatchNormalization()(x)\n",
        "x = Activation('relu')(x)\n",
        "x = SeparableConv2D(1024, (3, 3), padding='same', use_bias=False)(x)\n",
        "x = BatchNormalization()(x)\n",
        "\n",
        "# Block 13 Pool\n",
        "x = MaxPooling2D((3, 3), strides=(2, 2), padding='same')(x)\n",
        "x = layers.add([x, residual])\n",
        "\n",
        "# Block 14\n",
        "x = SeparableConv2D(1536, (3, 3), padding='same', use_bias=False)(x)\n",
        "x = BatchNormalization()(x)\n",
        "x = Activation('relu')(x)\n",
        "\n",
        "# Block 14 part 2\n",
        "x = SeparableConv2D(2048, (3, 3), padding='same', use_bias=False)(x)\n",
        "x = BatchNormalization()(x)\n",
        "x = Activation('relu')(x)"
      ],
      "metadata": {
        "id": "sc7kM8NA8y08"
      },
      "execution_count": null,
      "outputs": []
    },
    {
      "cell_type": "code",
      "source": [
        "x = Flatten()(x)"
      ],
      "metadata": {
        "id": "DtYypJee9OPj"
      },
      "execution_count": null,
      "outputs": []
    },
    {
      "cell_type": "code",
      "execution_count": null,
      "metadata": {
        "id": "9NDKH2UWu_rS"
      },
      "outputs": [],
      "source": [
        "\n",
        "\n",
        "prediction = Dense(len(folders), activation='softmax')(x)\n",
        "\n",
        "# create a model object\n",
        "model = Model(inputs=vgg19.input, outputs=prediction)\n",
        "\n",
        "\n"
      ]
    },
    {
      "cell_type": "code",
      "execution_count": null,
      "metadata": {
        "colab": {
          "base_uri": "https://localhost:8080/"
        },
        "id": "O26qE6Op3IF-",
        "outputId": "313c2c90-ba87-46fa-9497-52b1e60249c7"
      },
      "outputs": [
        {
          "output_type": "stream",
          "name": "stdout",
          "text": [
            "Model: \"model_4\"\n",
            "__________________________________________________________________________________________________\n",
            " Layer (type)                   Output Shape         Param #     Connected to                     \n",
            "==================================================================================================\n",
            " input_11 (InputLayer)          [(None, 224, 224, 3  0           []                               \n",
            "                                )]                                                                \n",
            "                                                                                                  \n",
            " block1_conv1 (Conv2D)          (None, 224, 224, 64  1792        ['input_11[0][0]']               \n",
            "                                )                                                                 \n",
            "                                                                                                  \n",
            " block1_conv2 (Conv2D)          (None, 224, 224, 64  36928       ['block1_conv1[0][0]']           \n",
            "                                )                                                                 \n",
            "                                                                                                  \n",
            " block1_pool (MaxPooling2D)     (None, 112, 112, 64  0           ['block1_conv2[0][0]']           \n",
            "                                )                                                                 \n",
            "                                                                                                  \n",
            " block2_conv1 (Conv2D)          (None, 112, 112, 12  73856       ['block1_pool[0][0]']            \n",
            "                                8)                                                                \n",
            "                                                                                                  \n",
            " block2_conv2 (Conv2D)          (None, 112, 112, 12  147584      ['block2_conv1[0][0]']           \n",
            "                                8)                                                                \n",
            "                                                                                                  \n",
            " block2_pool (MaxPooling2D)     (None, 56, 56, 128)  0           ['block2_conv2[0][0]']           \n",
            "                                                                                                  \n",
            " block3_conv1 (Conv2D)          (None, 56, 56, 256)  295168      ['block2_pool[0][0]']            \n",
            "                                                                                                  \n",
            " block3_conv2 (Conv2D)          (None, 56, 56, 256)  590080      ['block3_conv1[0][0]']           \n",
            "                                                                                                  \n",
            " block3_conv3 (Conv2D)          (None, 56, 56, 256)  590080      ['block3_conv2[0][0]']           \n",
            "                                                                                                  \n",
            " block3_pool (MaxPooling2D)     (None, 28, 28, 256)  0           ['block3_conv3[0][0]']           \n",
            "                                                                                                  \n",
            " block4_conv1 (Conv2D)          (None, 28, 28, 512)  1180160     ['block3_pool[0][0]']            \n",
            "                                                                                                  \n",
            " block4_conv2 (Conv2D)          (None, 28, 28, 512)  2359808     ['block4_conv1[0][0]']           \n",
            "                                                                                                  \n",
            " block4_conv3 (Conv2D)          (None, 28, 28, 512)  2359808     ['block4_conv2[0][0]']           \n",
            "                                                                                                  \n",
            " block4_pool (MaxPooling2D)     (None, 14, 14, 512)  0           ['block4_conv3[0][0]']           \n",
            "                                                                                                  \n",
            " block5_conv1 (Conv2D)          (None, 14, 14, 512)  2359808     ['block4_pool[0][0]']            \n",
            "                                                                                                  \n",
            " block5_conv2 (Conv2D)          (None, 14, 14, 512)  2359808     ['block5_conv1[0][0]']           \n",
            "                                                                                                  \n",
            " block5_conv3 (Conv2D)          (None, 14, 14, 512)  2359808     ['block5_conv2[0][0]']           \n",
            "                                                                                                  \n",
            " block5_pool (MaxPooling2D)     (None, 7, 7, 512)    0           ['block5_conv3[0][0]']           \n",
            "                                                                                                  \n",
            " conv2d_73 (Conv2D)             (None, 3, 3, 32)     147456      ['block5_pool[0][0]']            \n",
            "                                                                                                  \n",
            " batch_normalization_80 (BatchN  (None, 3, 3, 32)    128         ['conv2d_73[0][0]']              \n",
            " ormalization)                                                                                    \n",
            "                                                                                                  \n",
            " activation_35 (Activation)     (None, 3, 3, 32)     0           ['batch_normalization_80[0][0]'] \n",
            "                                                                                                  \n",
            " conv2d_74 (Conv2D)             (None, 1, 1, 64)     18432       ['activation_35[0][0]']          \n",
            "                                                                                                  \n",
            " batch_normalization_81 (BatchN  (None, 1, 1, 64)    256         ['conv2d_74[0][0]']              \n",
            " ormalization)                                                                                    \n",
            "                                                                                                  \n",
            " activation_36 (Activation)     (None, 1, 1, 64)     0           ['batch_normalization_81[0][0]'] \n",
            "                                                                                                  \n",
            " separable_conv2d_39 (Separable  (None, 1, 1, 128)   8768        ['activation_36[0][0]']          \n",
            " Conv2D)                                                                                          \n",
            "                                                                                                  \n",
            " batch_normalization_83 (BatchN  (None, 1, 1, 128)   512         ['separable_conv2d_39[0][0]']    \n",
            " ormalization)                                                                                    \n",
            "                                                                                                  \n",
            " activation_37 (Activation)     (None, 1, 1, 128)    0           ['batch_normalization_83[0][0]'] \n",
            "                                                                                                  \n",
            " separable_conv2d_40 (Separable  (None, 1, 1, 128)   17536       ['activation_37[0][0]']          \n",
            " Conv2D)                                                                                          \n",
            "                                                                                                  \n",
            " batch_normalization_84 (BatchN  (None, 1, 1, 128)   512         ['separable_conv2d_40[0][0]']    \n",
            " ormalization)                                                                                    \n",
            "                                                                                                  \n",
            " conv2d_75 (Conv2D)             (None, 1, 1, 128)    8192        ['activation_36[0][0]']          \n",
            "                                                                                                  \n",
            " max_pooling2d_23 (MaxPooling2D  (None, 1, 1, 128)   0           ['batch_normalization_84[0][0]'] \n",
            " )                                                                                                \n",
            "                                                                                                  \n",
            " batch_normalization_82 (BatchN  (None, 1, 1, 128)   512         ['conv2d_75[0][0]']              \n",
            " ormalization)                                                                                    \n",
            "                                                                                                  \n",
            " add_132 (Add)                  (None, 1, 1, 128)    0           ['max_pooling2d_23[0][0]',       \n",
            "                                                                  'batch_normalization_82[0][0]'] \n",
            "                                                                                                  \n",
            " activation_38 (Activation)     (None, 1, 1, 128)    0           ['add_132[0][0]']                \n",
            "                                                                                                  \n",
            " separable_conv2d_41 (Separable  (None, 1, 1, 256)   33920       ['activation_38[0][0]']          \n",
            " Conv2D)                                                                                          \n",
            "                                                                                                  \n",
            " batch_normalization_86 (BatchN  (None, 1, 1, 256)   1024        ['separable_conv2d_41[0][0]']    \n",
            " ormalization)                                                                                    \n",
            "                                                                                                  \n",
            " activation_39 (Activation)     (None, 1, 1, 256)    0           ['batch_normalization_86[0][0]'] \n",
            "                                                                                                  \n",
            " separable_conv2d_42 (Separable  (None, 1, 1, 256)   67840       ['activation_39[0][0]']          \n",
            " Conv2D)                                                                                          \n",
            "                                                                                                  \n",
            " batch_normalization_87 (BatchN  (None, 1, 1, 256)   1024        ['separable_conv2d_42[0][0]']    \n",
            " ormalization)                                                                                    \n",
            "                                                                                                  \n",
            " conv2d_76 (Conv2D)             (None, 1, 1, 256)    32768       ['add_132[0][0]']                \n",
            "                                                                                                  \n",
            " max_pooling2d_24 (MaxPooling2D  (None, 1, 1, 256)   0           ['batch_normalization_87[0][0]'] \n",
            " )                                                                                                \n",
            "                                                                                                  \n",
            " batch_normalization_85 (BatchN  (None, 1, 1, 256)   1024        ['conv2d_76[0][0]']              \n",
            " ormalization)                                                                                    \n",
            "                                                                                                  \n",
            " add_133 (Add)                  (None, 1, 1, 256)    0           ['max_pooling2d_24[0][0]',       \n",
            "                                                                  'batch_normalization_85[0][0]'] \n",
            "                                                                                                  \n",
            " activation_40 (Activation)     (None, 1, 1, 256)    0           ['add_133[0][0]']                \n",
            "                                                                                                  \n",
            " separable_conv2d_43 (Separable  (None, 1, 1, 728)   188672      ['activation_40[0][0]']          \n",
            " Conv2D)                                                                                          \n",
            "                                                                                                  \n",
            " batch_normalization_89 (BatchN  (None, 1, 1, 728)   2912        ['separable_conv2d_43[0][0]']    \n",
            " ormalization)                                                                                    \n",
            "                                                                                                  \n",
            " activation_41 (Activation)     (None, 1, 1, 728)    0           ['batch_normalization_89[0][0]'] \n",
            "                                                                                                  \n",
            " separable_conv2d_44 (Separable  (None, 1, 1, 728)   536536      ['activation_41[0][0]']          \n",
            " Conv2D)                                                                                          \n",
            "                                                                                                  \n",
            " batch_normalization_90 (BatchN  (None, 1, 1, 728)   2912        ['separable_conv2d_44[0][0]']    \n",
            " ormalization)                                                                                    \n",
            "                                                                                                  \n",
            " conv2d_77 (Conv2D)             (None, 1, 1, 728)    186368      ['add_133[0][0]']                \n",
            "                                                                                                  \n",
            " max_pooling2d_25 (MaxPooling2D  (None, 1, 1, 728)   0           ['batch_normalization_90[0][0]'] \n",
            " )                                                                                                \n",
            "                                                                                                  \n",
            " batch_normalization_88 (BatchN  (None, 1, 1, 728)   2912        ['conv2d_77[0][0]']              \n",
            " ormalization)                                                                                    \n",
            "                                                                                                  \n",
            " add_134 (Add)                  (None, 1, 1, 728)    0           ['max_pooling2d_25[0][0]',       \n",
            "                                                                  'batch_normalization_88[0][0]'] \n",
            "                                                                                                  \n",
            " activation_42 (Activation)     (None, 1, 1, 728)    0           ['add_134[0][0]']                \n",
            "                                                                                                  \n",
            " separable_conv2d_45 (Separable  (None, 1, 1, 728)   536536      ['activation_42[0][0]']          \n",
            " Conv2D)                                                                                          \n",
            "                                                                                                  \n",
            " batch_normalization_91 (BatchN  (None, 1, 1, 728)   2912        ['separable_conv2d_45[0][0]']    \n",
            " ormalization)                                                                                    \n",
            "                                                                                                  \n",
            " activation_43 (Activation)     (None, 1, 1, 728)    0           ['batch_normalization_91[0][0]'] \n",
            "                                                                                                  \n",
            " separable_conv2d_46 (Separable  (None, 1, 1, 728)   536536      ['activation_43[0][0]']          \n",
            " Conv2D)                                                                                          \n",
            "                                                                                                  \n",
            " batch_normalization_92 (BatchN  (None, 1, 1, 728)   2912        ['separable_conv2d_46[0][0]']    \n",
            " ormalization)                                                                                    \n",
            "                                                                                                  \n",
            " activation_44 (Activation)     (None, 1, 1, 728)    0           ['batch_normalization_92[0][0]'] \n",
            "                                                                                                  \n",
            " separable_conv2d_47 (Separable  (None, 1, 1, 728)   536536      ['activation_44[0][0]']          \n",
            " Conv2D)                                                                                          \n",
            "                                                                                                  \n",
            " batch_normalization_93 (BatchN  (None, 1, 1, 728)   2912        ['separable_conv2d_47[0][0]']    \n",
            " ormalization)                                                                                    \n",
            "                                                                                                  \n",
            " add_135 (Add)                  (None, 1, 1, 728)    0           ['batch_normalization_93[0][0]', \n",
            "                                                                  'add_134[0][0]']                \n",
            "                                                                                                  \n",
            " activation_45 (Activation)     (None, 1, 1, 728)    0           ['add_135[0][0]']                \n",
            "                                                                                                  \n",
            " separable_conv2d_48 (Separable  (None, 1, 1, 728)   536536      ['activation_45[0][0]']          \n",
            " Conv2D)                                                                                          \n",
            "                                                                                                  \n",
            " batch_normalization_94 (BatchN  (None, 1, 1, 728)   2912        ['separable_conv2d_48[0][0]']    \n",
            " ormalization)                                                                                    \n",
            "                                                                                                  \n",
            " activation_46 (Activation)     (None, 1, 1, 728)    0           ['batch_normalization_94[0][0]'] \n",
            "                                                                                                  \n",
            " separable_conv2d_49 (Separable  (None, 1, 1, 728)   536536      ['activation_46[0][0]']          \n",
            " Conv2D)                                                                                          \n",
            "                                                                                                  \n",
            " batch_normalization_95 (BatchN  (None, 1, 1, 728)   2912        ['separable_conv2d_49[0][0]']    \n",
            " ormalization)                                                                                    \n",
            "                                                                                                  \n",
            " activation_47 (Activation)     (None, 1, 1, 728)    0           ['batch_normalization_95[0][0]'] \n",
            "                                                                                                  \n",
            " separable_conv2d_50 (Separable  (None, 1, 1, 728)   536536      ['activation_47[0][0]']          \n",
            " Conv2D)                                                                                          \n",
            "                                                                                                  \n",
            " batch_normalization_96 (BatchN  (None, 1, 1, 728)   2912        ['separable_conv2d_50[0][0]']    \n",
            " ormalization)                                                                                    \n",
            "                                                                                                  \n",
            " add_136 (Add)                  (None, 1, 1, 728)    0           ['batch_normalization_96[0][0]', \n",
            "                                                                  'add_135[0][0]']                \n",
            "                                                                                                  \n",
            " activation_48 (Activation)     (None, 1, 1, 728)    0           ['add_136[0][0]']                \n",
            "                                                                                                  \n",
            " separable_conv2d_51 (Separable  (None, 1, 1, 728)   536536      ['activation_48[0][0]']          \n",
            " Conv2D)                                                                                          \n",
            "                                                                                                  \n",
            " batch_normalization_97 (BatchN  (None, 1, 1, 728)   2912        ['separable_conv2d_51[0][0]']    \n",
            " ormalization)                                                                                    \n",
            "                                                                                                  \n",
            " activation_49 (Activation)     (None, 1, 1, 728)    0           ['batch_normalization_97[0][0]'] \n",
            "                                                                                                  \n",
            " separable_conv2d_52 (Separable  (None, 1, 1, 728)   536536      ['activation_49[0][0]']          \n",
            " Conv2D)                                                                                          \n",
            "                                                                                                  \n",
            " batch_normalization_98 (BatchN  (None, 1, 1, 728)   2912        ['separable_conv2d_52[0][0]']    \n",
            " ormalization)                                                                                    \n",
            "                                                                                                  \n",
            " activation_50 (Activation)     (None, 1, 1, 728)    0           ['batch_normalization_98[0][0]'] \n",
            "                                                                                                  \n",
            " separable_conv2d_53 (Separable  (None, 1, 1, 728)   536536      ['activation_50[0][0]']          \n",
            " Conv2D)                                                                                          \n",
            "                                                                                                  \n",
            " batch_normalization_99 (BatchN  (None, 1, 1, 728)   2912        ['separable_conv2d_53[0][0]']    \n",
            " ormalization)                                                                                    \n",
            "                                                                                                  \n",
            " add_137 (Add)                  (None, 1, 1, 728)    0           ['batch_normalization_99[0][0]', \n",
            "                                                                  'add_136[0][0]']                \n",
            "                                                                                                  \n",
            " activation_51 (Activation)     (None, 1, 1, 728)    0           ['add_137[0][0]']                \n",
            "                                                                                                  \n",
            " separable_conv2d_54 (Separable  (None, 1, 1, 728)   536536      ['activation_51[0][0]']          \n",
            " Conv2D)                                                                                          \n",
            "                                                                                                  \n",
            " batch_normalization_100 (Batch  (None, 1, 1, 728)   2912        ['separable_conv2d_54[0][0]']    \n",
            " Normalization)                                                                                   \n",
            "                                                                                                  \n",
            " activation_52 (Activation)     (None, 1, 1, 728)    0           ['batch_normalization_100[0][0]']\n",
            "                                                                                                  \n",
            " separable_conv2d_55 (Separable  (None, 1, 1, 728)   536536      ['activation_52[0][0]']          \n",
            " Conv2D)                                                                                          \n",
            "                                                                                                  \n",
            " batch_normalization_101 (Batch  (None, 1, 1, 728)   2912        ['separable_conv2d_55[0][0]']    \n",
            " Normalization)                                                                                   \n",
            "                                                                                                  \n",
            " activation_53 (Activation)     (None, 1, 1, 728)    0           ['batch_normalization_101[0][0]']\n",
            "                                                                                                  \n",
            " separable_conv2d_56 (Separable  (None, 1, 1, 728)   536536      ['activation_53[0][0]']          \n",
            " Conv2D)                                                                                          \n",
            "                                                                                                  \n",
            " batch_normalization_102 (Batch  (None, 1, 1, 728)   2912        ['separable_conv2d_56[0][0]']    \n",
            " Normalization)                                                                                   \n",
            "                                                                                                  \n",
            " add_138 (Add)                  (None, 1, 1, 728)    0           ['batch_normalization_102[0][0]',\n",
            "                                                                  'add_137[0][0]']                \n",
            "                                                                                                  \n",
            " activation_54 (Activation)     (None, 1, 1, 728)    0           ['add_138[0][0]']                \n",
            "                                                                                                  \n",
            " separable_conv2d_57 (Separable  (None, 1, 1, 728)   536536      ['activation_54[0][0]']          \n",
            " Conv2D)                                                                                          \n",
            "                                                                                                  \n",
            " batch_normalization_103 (Batch  (None, 1, 1, 728)   2912        ['separable_conv2d_57[0][0]']    \n",
            " Normalization)                                                                                   \n",
            "                                                                                                  \n",
            " activation_55 (Activation)     (None, 1, 1, 728)    0           ['batch_normalization_103[0][0]']\n",
            "                                                                                                  \n",
            " separable_conv2d_58 (Separable  (None, 1, 1, 728)   536536      ['activation_55[0][0]']          \n",
            " Conv2D)                                                                                          \n",
            "                                                                                                  \n",
            " batch_normalization_104 (Batch  (None, 1, 1, 728)   2912        ['separable_conv2d_58[0][0]']    \n",
            " Normalization)                                                                                   \n",
            "                                                                                                  \n",
            " activation_56 (Activation)     (None, 1, 1, 728)    0           ['batch_normalization_104[0][0]']\n",
            "                                                                                                  \n",
            " separable_conv2d_59 (Separable  (None, 1, 1, 728)   536536      ['activation_56[0][0]']          \n",
            " Conv2D)                                                                                          \n",
            "                                                                                                  \n",
            " batch_normalization_105 (Batch  (None, 1, 1, 728)   2912        ['separable_conv2d_59[0][0]']    \n",
            " Normalization)                                                                                   \n",
            "                                                                                                  \n",
            " add_139 (Add)                  (None, 1, 1, 728)    0           ['batch_normalization_105[0][0]',\n",
            "                                                                  'add_138[0][0]']                \n",
            "                                                                                                  \n",
            " activation_57 (Activation)     (None, 1, 1, 728)    0           ['add_139[0][0]']                \n",
            "                                                                                                  \n",
            " separable_conv2d_60 (Separable  (None, 1, 1, 728)   536536      ['activation_57[0][0]']          \n",
            " Conv2D)                                                                                          \n",
            "                                                                                                  \n",
            " batch_normalization_106 (Batch  (None, 1, 1, 728)   2912        ['separable_conv2d_60[0][0]']    \n",
            " Normalization)                                                                                   \n",
            "                                                                                                  \n",
            " activation_58 (Activation)     (None, 1, 1, 728)    0           ['batch_normalization_106[0][0]']\n",
            "                                                                                                  \n",
            " separable_conv2d_61 (Separable  (None, 1, 1, 728)   536536      ['activation_58[0][0]']          \n",
            " Conv2D)                                                                                          \n",
            "                                                                                                  \n",
            " batch_normalization_107 (Batch  (None, 1, 1, 728)   2912        ['separable_conv2d_61[0][0]']    \n",
            " Normalization)                                                                                   \n",
            "                                                                                                  \n",
            " activation_59 (Activation)     (None, 1, 1, 728)    0           ['batch_normalization_107[0][0]']\n",
            "                                                                                                  \n",
            " separable_conv2d_62 (Separable  (None, 1, 1, 728)   536536      ['activation_59[0][0]']          \n",
            " Conv2D)                                                                                          \n",
            "                                                                                                  \n",
            " batch_normalization_108 (Batch  (None, 1, 1, 728)   2912        ['separable_conv2d_62[0][0]']    \n",
            " Normalization)                                                                                   \n",
            "                                                                                                  \n",
            " add_140 (Add)                  (None, 1, 1, 728)    0           ['batch_normalization_108[0][0]',\n",
            "                                                                  'add_139[0][0]']                \n",
            "                                                                                                  \n",
            " activation_60 (Activation)     (None, 1, 1, 728)    0           ['add_140[0][0]']                \n",
            "                                                                                                  \n",
            " separable_conv2d_63 (Separable  (None, 1, 1, 728)   536536      ['activation_60[0][0]']          \n",
            " Conv2D)                                                                                          \n",
            "                                                                                                  \n",
            " batch_normalization_109 (Batch  (None, 1, 1, 728)   2912        ['separable_conv2d_63[0][0]']    \n",
            " Normalization)                                                                                   \n",
            "                                                                                                  \n",
            " activation_61 (Activation)     (None, 1, 1, 728)    0           ['batch_normalization_109[0][0]']\n",
            "                                                                                                  \n",
            " separable_conv2d_64 (Separable  (None, 1, 1, 728)   536536      ['activation_61[0][0]']          \n",
            " Conv2D)                                                                                          \n",
            "                                                                                                  \n",
            " batch_normalization_110 (Batch  (None, 1, 1, 728)   2912        ['separable_conv2d_64[0][0]']    \n",
            " Normalization)                                                                                   \n",
            "                                                                                                  \n",
            " activation_62 (Activation)     (None, 1, 1, 728)    0           ['batch_normalization_110[0][0]']\n",
            "                                                                                                  \n",
            " separable_conv2d_65 (Separable  (None, 1, 1, 728)   536536      ['activation_62[0][0]']          \n",
            " Conv2D)                                                                                          \n",
            "                                                                                                  \n",
            " batch_normalization_111 (Batch  (None, 1, 1, 728)   2912        ['separable_conv2d_65[0][0]']    \n",
            " Normalization)                                                                                   \n",
            "                                                                                                  \n",
            " add_141 (Add)                  (None, 1, 1, 728)    0           ['batch_normalization_111[0][0]',\n",
            "                                                                  'add_140[0][0]']                \n",
            "                                                                                                  \n",
            " activation_63 (Activation)     (None, 1, 1, 728)    0           ['add_141[0][0]']                \n",
            "                                                                                                  \n",
            " separable_conv2d_66 (Separable  (None, 1, 1, 728)   536536      ['activation_63[0][0]']          \n",
            " Conv2D)                                                                                          \n",
            "                                                                                                  \n",
            " batch_normalization_112 (Batch  (None, 1, 1, 728)   2912        ['separable_conv2d_66[0][0]']    \n",
            " Normalization)                                                                                   \n",
            "                                                                                                  \n",
            " activation_64 (Activation)     (None, 1, 1, 728)    0           ['batch_normalization_112[0][0]']\n",
            "                                                                                                  \n",
            " separable_conv2d_67 (Separable  (None, 1, 1, 728)   536536      ['activation_64[0][0]']          \n",
            " Conv2D)                                                                                          \n",
            "                                                                                                  \n",
            " batch_normalization_113 (Batch  (None, 1, 1, 728)   2912        ['separable_conv2d_67[0][0]']    \n",
            " Normalization)                                                                                   \n",
            "                                                                                                  \n",
            " activation_65 (Activation)     (None, 1, 1, 728)    0           ['batch_normalization_113[0][0]']\n",
            "                                                                                                  \n",
            " separable_conv2d_68 (Separable  (None, 1, 1, 728)   536536      ['activation_65[0][0]']          \n",
            " Conv2D)                                                                                          \n",
            "                                                                                                  \n",
            " batch_normalization_114 (Batch  (None, 1, 1, 728)   2912        ['separable_conv2d_68[0][0]']    \n",
            " Normalization)                                                                                   \n",
            "                                                                                                  \n",
            " add_142 (Add)                  (None, 1, 1, 728)    0           ['batch_normalization_114[0][0]',\n",
            "                                                                  'add_141[0][0]']                \n",
            "                                                                                                  \n",
            " activation_66 (Activation)     (None, 1, 1, 728)    0           ['add_142[0][0]']                \n",
            "                                                                                                  \n",
            " separable_conv2d_69 (Separable  (None, 1, 1, 728)   536536      ['activation_66[0][0]']          \n",
            " Conv2D)                                                                                          \n",
            "                                                                                                  \n",
            " batch_normalization_116 (Batch  (None, 1, 1, 728)   2912        ['separable_conv2d_69[0][0]']    \n",
            " Normalization)                                                                                   \n",
            "                                                                                                  \n",
            " activation_67 (Activation)     (None, 1, 1, 728)    0           ['batch_normalization_116[0][0]']\n",
            "                                                                                                  \n",
            " separable_conv2d_70 (Separable  (None, 1, 1, 1024)  752024      ['activation_67[0][0]']          \n",
            " Conv2D)                                                                                          \n",
            "                                                                                                  \n",
            " batch_normalization_117 (Batch  (None, 1, 1, 1024)  4096        ['separable_conv2d_70[0][0]']    \n",
            " Normalization)                                                                                   \n",
            "                                                                                                  \n",
            " conv2d_78 (Conv2D)             (None, 1, 1, 1024)   745472      ['add_142[0][0]']                \n",
            "                                                                                                  \n",
            " max_pooling2d_26 (MaxPooling2D  (None, 1, 1, 1024)  0           ['batch_normalization_117[0][0]']\n",
            " )                                                                                                \n",
            "                                                                                                  \n",
            " batch_normalization_115 (Batch  (None, 1, 1, 1024)  4096        ['conv2d_78[0][0]']              \n",
            " Normalization)                                                                                   \n",
            "                                                                                                  \n",
            " add_143 (Add)                  (None, 1, 1, 1024)   0           ['max_pooling2d_26[0][0]',       \n",
            "                                                                  'batch_normalization_115[0][0]']\n",
            "                                                                                                  \n",
            " separable_conv2d_71 (Separable  (None, 1, 1, 1536)  1582080     ['add_143[0][0]']                \n",
            " Conv2D)                                                                                          \n",
            "                                                                                                  \n",
            " batch_normalization_118 (Batch  (None, 1, 1, 1536)  6144        ['separable_conv2d_71[0][0]']    \n",
            " Normalization)                                                                                   \n",
            "                                                                                                  \n",
            " activation_68 (Activation)     (None, 1, 1, 1536)   0           ['batch_normalization_118[0][0]']\n",
            "                                                                                                  \n",
            " separable_conv2d_72 (Separable  (None, 1, 1, 2048)  3159552     ['activation_68[0][0]']          \n",
            " Conv2D)                                                                                          \n",
            "                                                                                                  \n",
            " batch_normalization_119 (Batch  (None, 1, 1, 2048)  8192        ['separable_conv2d_72[0][0]']    \n",
            " Normalization)                                                                                   \n",
            "                                                                                                  \n",
            " activation_69 (Activation)     (None, 1, 1, 2048)   0           ['batch_normalization_119[0][0]']\n",
            "                                                                                                  \n",
            " flatten_6 (Flatten)            (None, 2048)         0           ['activation_69[0][0]']          \n",
            "                                                                                                  \n",
            " dense_7 (Dense)                (None, 10)           20490       ['flatten_6[0][0]']              \n",
            "                                                                                                  \n",
            "==================================================================================================\n",
            "Total params: 35,743,250\n",
            "Trainable params: 20,974,034\n",
            "Non-trainable params: 14,769,216\n",
            "__________________________________________________________________________________________________\n"
          ]
        }
      ],
      "source": [
        "\n",
        "# view the structure of the model\n",
        "model.summary()\n"
      ]
    },
    {
      "cell_type": "code",
      "execution_count": null,
      "metadata": {
        "id": "N2B_49Yv3IF-"
      },
      "outputs": [],
      "source": [
        "# tell the model what cost and optimization method to use\n",
        "model.compile(\n",
        "  loss='categorical_crossentropy',\n",
        "  optimizer='adam',\n",
        "  metrics=[tf.keras.metrics.CategoricalAccuracy(),tf.keras.metrics.AUC(),tf.keras.metrics.Precision(),tf.keras.metrics.Recall(),tf.keras.metrics.TrueNegatives(),tf.keras.metrics.TruePositives(),tf.keras.metrics.FalsePositives(),tf.keras.metrics.FalseNegatives()]\n",
        ")\n"
      ]
    },
    {
      "cell_type": "code",
      "execution_count": null,
      "metadata": {
        "id": "4p5xtB7c3IF-"
      },
      "outputs": [],
      "source": [
        "# Use the Image Data Generator to import the images from the dataset\n",
        "from tensorflow.keras.preprocessing.image import ImageDataGenerator\n",
        "\n",
        "train_datagen = ImageDataGenerator(rescale = 1./255,\n",
        "                                   shear_range = 0.2,\n",
        "                                   zoom_range = 0.2,\n",
        "                                   horizontal_flip = True)\n",
        "\n",
        "test_datagen = ImageDataGenerator(rescale = 1./255)"
      ]
    },
    {
      "cell_type": "code",
      "execution_count": null,
      "metadata": {
        "colab": {
          "base_uri": "https://localhost:8080/"
        },
        "id": "kUaipUyr3IF_",
        "outputId": "b0b15efd-8ac7-4582-f9ac-3bd80a1b3884"
      },
      "outputs": [
        {
          "output_type": "stream",
          "name": "stdout",
          "text": [
            "Found 14523 images belonging to 10 classes.\n"
          ]
        }
      ],
      "source": [
        "# Make sure you provide the same target size as initialied for the image size\n",
        "training_set = train_datagen.flow_from_directory('/content/drive/MyDrive/ColabNotebooks/output/train',\n",
        "                                                 target_size = (224, 224),\n",
        "                                                 batch_size = 32,\n",
        "                                                 class_mode = 'categorical')"
      ]
    },
    {
      "cell_type": "code",
      "execution_count": null,
      "metadata": {
        "colab": {
          "base_uri": "https://localhost:8080/"
        },
        "id": "30NGiAbY3IF_",
        "outputId": "9000a09c-7873-48ff-ccb2-17fff6324c58"
      },
      "outputs": [
        {
          "output_type": "stream",
          "name": "stdout",
          "text": [
            "Found 3637 images belonging to 10 classes.\n"
          ]
        }
      ],
      "source": [
        "test_set = test_datagen.flow_from_directory('/content/drive/MyDrive/ColabNotebooks/output/val',\n",
        "                                            target_size = (224, 224),\n",
        "                                            batch_size = 32,\n",
        "                                            class_mode = 'categorical')"
      ]
    },
    {
      "cell_type": "code",
      "execution_count": null,
      "metadata": {
        "scrolled": true,
        "id": "pzMWVRmE3IF_"
      },
      "outputs": [],
      "source": [
        "# fit the model\n",
        "# Run the cell. It will take some time to execute\n",
        "r = model.fit(\n",
        "  training_set,\n",
        "  validation_data=test_set,\n",
        "  epochs=1,\n",
        "  steps_per_epoch=len(training_set),\n",
        "  validation_steps=len(test_set)\n",
        ")"
      ]
    },
    {
      "cell_type": "code",
      "execution_count": null,
      "metadata": {
        "colab": {
          "base_uri": "https://localhost:8080/"
        },
        "id": "QeLskxij3IGA",
        "outputId": "689eb6cb-ff0f-4f1c-d611-60b22993ef60"
      },
      "outputs": [
        {
          "output_type": "execute_result",
          "data": {
            "text/plain": [
              "{'auc': [0.9713299870491028,\n",
              "  0.9897470474243164,\n",
              "  0.9932546615600586,\n",
              "  0.9939835667610168,\n",
              "  0.9945647120475769,\n",
              "  0.9952046275138855,\n",
              "  0.996002733707428,\n",
              "  0.9956589937210083,\n",
              "  0.9968019127845764,\n",
              "  0.9967836737632751],\n",
              " 'categorical_accuracy': [0.78654545545578,\n",
              "  0.8772980570793152,\n",
              "  0.9033257365226746,\n",
              "  0.9128968119621277,\n",
              "  0.9198512434959412,\n",
              "  0.9276320338249207,\n",
              "  0.9336913824081421,\n",
              "  0.9352750778198242,\n",
              "  0.9468429684638977,\n",
              "  0.950905442237854],\n",
              " 'false_negatives': [3916.0,\n",
              "  2066.0,\n",
              "  1617.0,\n",
              "  1390.0,\n",
              "  1264.0,\n",
              "  1139.0,\n",
              "  1055.0,\n",
              "  1013.0,\n",
              "  841.0,\n",
              "  764.0],\n",
              " 'false_positives': [1743.0,\n",
              "  1329.0,\n",
              "  1120.0,\n",
              "  1051.0,\n",
              "  967.0,\n",
              "  906.0,\n",
              "  827.0,\n",
              "  830.0,\n",
              "  693.0,\n",
              "  641.0],\n",
              " 'loss': [0.6707809567451477,\n",
              "  0.3693074584007263,\n",
              "  0.2871822714805603,\n",
              "  0.2595498859882355,\n",
              "  0.2371833324432373,\n",
              "  0.2194279432296753,\n",
              "  0.19570472836494446,\n",
              "  0.19745373725891113,\n",
              "  0.15904872119426727,\n",
              "  0.1483570635318756],\n",
              " 'precision': [0.8588663935661316,\n",
              "  0.9035978317260742,\n",
              "  0.9201483130455017,\n",
              "  0.9259024262428284,\n",
              "  0.9320258498191833,\n",
              "  0.9365990161895752,\n",
              "  0.9421476125717163,\n",
              "  0.9421199560165405,\n",
              "  0.9517912864685059,\n",
              "  0.9554861187934875],\n",
              " 'recall': [0.7303587198257446,\n",
              "  0.8577429056167603,\n",
              "  0.8886593580245972,\n",
              "  0.904289722442627,\n",
              "  0.9129656553268433,\n",
              "  0.9215726852416992,\n",
              "  0.9273566007614136,\n",
              "  0.9302485585212708,\n",
              "  0.9420918822288513,\n",
              "  0.9473937749862671],\n",
              " 'true_negatives': [128964.0,\n",
              "  129378.0,\n",
              "  129587.0,\n",
              "  129656.0,\n",
              "  129740.0,\n",
              "  129801.0,\n",
              "  129880.0,\n",
              "  129877.0,\n",
              "  130014.0,\n",
              "  130066.0],\n",
              " 'true_positives': [10607.0,\n",
              "  12457.0,\n",
              "  12906.0,\n",
              "  13133.0,\n",
              "  13259.0,\n",
              "  13384.0,\n",
              "  13468.0,\n",
              "  13510.0,\n",
              "  13682.0,\n",
              "  13759.0],\n",
              " 'val_auc': [0.9794033765792847,\n",
              "  0.9901831746101379,\n",
              "  0.9864245653152466,\n",
              "  0.9801273345947266,\n",
              "  0.9869149327278137,\n",
              "  0.9931102395057678,\n",
              "  0.9888360500335693,\n",
              "  0.9849766492843628,\n",
              "  0.9770925641059875,\n",
              "  0.9929994344711304],\n",
              " 'val_categorical_accuracy': [0.8441022634506226,\n",
              "  0.8814957141876221,\n",
              "  0.8594995737075806,\n",
              "  0.8520758748054504,\n",
              "  0.8803959488868713,\n",
              "  0.9131152033805847,\n",
              "  0.8990926742553711,\n",
              "  0.8834204077720642,\n",
              "  0.863623857498169,\n",
              "  0.9287874698638916],\n",
              " 'val_false_negatives': [656.0,\n",
              "  487.0,\n",
              "  556.0,\n",
              "  568.0,\n",
              "  459.0,\n",
              "  340.0,\n",
              "  385.0,\n",
              "  441.0,\n",
              "  512.0,\n",
              "  270.0],\n",
              " 'val_false_positives': [448.0,\n",
              "  348.0,\n",
              "  419.0,\n",
              "  477.0,\n",
              "  393.0,\n",
              "  270.0,\n",
              "  330.0,\n",
              "  388.0,\n",
              "  460.0,\n",
              "  243.0],\n",
              " 'val_loss': [0.5332965850830078,\n",
              "  0.35976162552833557,\n",
              "  0.4241198003292084,\n",
              "  0.513804018497467,\n",
              "  0.3892676830291748,\n",
              "  0.2633397877216339,\n",
              "  0.3369026482105255,\n",
              "  0.41656991839408875,\n",
              "  0.5614946484565735,\n",
              "  0.25127825140953064],\n",
              " 'val_precision': [0.8693496584892273,\n",
              "  0.9005146026611328,\n",
              "  0.8802857398986816,\n",
              "  0.8654822111129761,\n",
              "  0.8899468183517456,\n",
              "  0.9243061542510986,\n",
              "  0.9078726768493652,\n",
              "  0.8917410969734192,\n",
              "  0.8716875910758972,\n",
              "  0.932686984539032],\n",
              " 'val_recall': [0.8196315765380859,\n",
              "  0.8660984039306641,\n",
              "  0.8471267819404602,\n",
              "  0.8438273072242737,\n",
              "  0.8737970590591431,\n",
              "  0.9065163731575012,\n",
              "  0.8941435217857361,\n",
              "  0.8787462115287781,\n",
              "  0.8592246174812317,\n",
              "  0.9257630109786987],\n",
              " 'val_true_negatives': [32285.0,\n",
              "  32385.0,\n",
              "  32314.0,\n",
              "  32256.0,\n",
              "  32340.0,\n",
              "  32463.0,\n",
              "  32403.0,\n",
              "  32345.0,\n",
              "  32273.0,\n",
              "  32490.0],\n",
              " 'val_true_positives': [2981.0,\n",
              "  3150.0,\n",
              "  3081.0,\n",
              "  3069.0,\n",
              "  3178.0,\n",
              "  3297.0,\n",
              "  3252.0,\n",
              "  3196.0,\n",
              "  3125.0,\n",
              "  3367.0]}"
            ]
          },
          "metadata": {},
          "execution_count": 18
        }
      ],
      "source": [
        "import matplotlib.pylab as plt\n",
        "r.history"
      ]
    },
    {
      "cell_type": "code",
      "execution_count": null,
      "metadata": {
        "colab": {
          "base_uri": "https://localhost:8080/",
          "height": 404
        },
        "id": "6M4GEbSR3IGA",
        "outputId": "047d122f-c8a0-470a-d12b-071471369698"
      },
      "outputs": [
        {
          "output_type": "display_data",
          "data": {
            "text/plain": [
              "<Figure size 576x432 with 1 Axes>"
            ],
            "image/png": "[encoded data removed]"
          },
          "metadata": {
            "needs_background": "light"
          }
        }
      ],
      "source": [
        "\n",
        "from matplotlib.pyplot import figure\n",
        "figure(figsize=(8, 6))\n",
        "plt.plot(r.history['loss'])\n",
        "plt.plot(r.history['val_loss'])\n",
        "plt.title('model loss')\n",
        "plt.ylabel('loss')\n",
        "plt.xlabel('epoch')\n",
        "plt.legend(['train', 'test'], loc='upper left')\n",
        "plt.show()\n"
      ]
    },
    {
      "cell_type": "code",
      "execution_count": null,
      "metadata": {
        "colab": {
          "base_uri": "https://localhost:8080/",
          "height": 404
        },
        "id": "GUDbspq13IGA",
        "outputId": "06d23cba-eb43-4288-8ca2-453aaeecffa5"
      },
      "outputs": [
        {
          "output_type": "display_data",
          "data": {
            "text/plain": [
              "<Figure size 576x432 with 1 Axes>"
            ],
            "image/png": "[encoded data removed]"
          },
          "metadata": {
            "needs_background": "light"
          }
        }
      ],
      "source": [
        "\n",
        "# plot the accuracy\n",
        "figure(figsize=(8, 6))\n",
        "plt.plot(r.history['categorical_accuracy'])\n",
        "plt.plot(r.history['val_categorical_accuracy'])\n",
        "plt.title('model accuracy')\n",
        "plt.ylabel('accuracy')\n",
        "plt.xlabel('epoch')\n",
        "plt.legend(['train', 'test'], loc='upper left')\n",
        "plt.show()"
      ]
    },
    {
      "cell_type": "code",
      "source": [
        "\n",
        "# plot the accuracy\n",
        "figure(figsize=(8, 6))\n",
        "plt.plot(r.history['precision'])\n",
        "plt.plot(r.history['val_precision'])\n",
        "plt.title('model precision')\n",
        "plt.ylabel('Precision')\n",
        "plt.xlabel('epoch')\n",
        "plt.legend(['train', 'test'], loc='upper left')\n",
        "plt.show()"
      ],
      "metadata": {
        "colab": {
          "base_uri": "https://localhost:8080/",
          "height": 404
        },
        "id": "-zqVjiLmN4oI",
        "outputId": "9047c2a9-0e8a-4b0c-ea06-4e1eab7e1ecf"
      },
      "execution_count": null,
      "outputs": [
        {
          "output_type": "display_data",
          "data": {
            "text/plain": [
              "<Figure size 576x432 with 1 Axes>"
            ],
            "image/png": "[encoded data removed]"
          },
          "metadata": {
            "needs_background": "light"
          }
        }
      ]
    },
    {
      "cell_type": "code",
      "source": [
        "figure(figsize=(8, 6))\n",
        "plt.plot(r.history['recall'])\n",
        "plt.plot(r.history['val_recall'])\n",
        "plt.title('model recall')\n",
        "plt.ylabel('recall')\n",
        "plt.xlabel('epoch')\n",
        "plt.legend(['train', 'test'], loc='upper left')\n",
        "plt.show()"
      ],
      "metadata": {
        "colab": {
          "base_uri": "https://localhost:8080/",
          "height": 404
        },
        "id": "jnLtSKeDOa0u",
        "outputId": "bf5e3f38-2647-4583-e909-6c50e24914c5"
      },
      "execution_count": null,
      "outputs": [
        {
          "output_type": "display_data",
          "data": {
            "text/plain": [
              "<Figure size 576x432 with 1 Axes>"
            ],
            "image/png": "[encoded data removed]"
          },
          "metadata": {
            "needs_background": "light"
          }
        }
      ]
    },
    {
      "cell_type": "code",
      "source": [
        "figure(figsize=(8, 6))\n",
        "plt.plot(r.history['auc'])\n",
        "plt.plot(r.history['val_auc'])\n",
        "plt.title('model AUC')\n",
        "plt.ylabel('AUC')\n",
        "plt.xlabel('epoch')\n",
        "plt.legend(['train', 'test'], loc='upper left')\n",
        "plt.show()"
      ],
      "metadata": {
        "colab": {
          "base_uri": "https://localhost:8080/",
          "height": 404
        },
        "id": "qHqgdOBNPVKP",
        "outputId": "1a64c0e7-4722-4914-dae5-b6c19401181e"
      },
      "execution_count": null,
      "outputs": [
        {
          "output_type": "display_data",
          "data": {
            "text/plain": [
              "<Figure size 576x432 with 1 Axes>"
            ],
            "image/png": "[encoded data removed]"
          },
          "metadata": {
            "needs_background": "light"
          }
        }
      ]
    },
    {
      "cell_type": "code",
      "source": [
        "f1_score=[]\n",
        "val_f1_score=[]\n",
        "for i in range(10):\n",
        "  f1_score.append((2*r.history['precision'][i] * r.history['recall'][i])/(r.history['precision'][i] + r.history['recall'][i]))\n",
        "  val_f1_score.append((2*r.history['val_precision'][i] * r.history['val_recall'][i])/(r.history['val_precision'][i] + r.history['val_recall'][i])) \n",
        "\n",
        "figure(figsize=(8, 6))\n",
        "plt.plot(f1_score)\n",
        "plt.plot(val_f1_score)\n",
        "plt.title('model F1 Score')\n",
        "plt.ylabel('Score')\n",
        "plt.xlabel('epoch')\n",
        "plt.legend(['train', 'test'], loc='upper left')\n",
        "plt.show()\n"
      ],
      "metadata": {
        "colab": {
          "base_uri": "https://localhost:8080/",
          "height": 404
        },
        "id": "BmtxB0tqeXR2",
        "outputId": "a6e37936-89ae-4dcd-f7e6-e3b8c5f837ac"
      },
      "execution_count": null,
      "outputs": [
        {
          "output_type": "display_data",
          "data": {
            "text/plain": [
              "<Figure size 576x432 with 1 Axes>"
            ],
            "image/png": "[encoded data removed]"
          },
          "metadata": {
            "needs_background": "light"
          }
        }
      ]
    },
    {
      "cell_type": "code",
      "source": [
        "\n",
        "print('Name     TN     FP     TP      FN')\n",
        "for val in range(10):\n",
        "  print(f\"{val}    {r.history['true_negatives'][val]} {r.history['false_positives'][val]} {r.history['true_positives'][val]}   {r.history['false_negatives'][val]}\")\n",
        "\n",
        "print('\\n')\n",
        "print('Name     TN     FP      TP      FN')\n",
        "for val in range(10):\n",
        "  print(f\"{val}    {r.history['val_true_negatives'][val]} {r.history['val_false_positives'][val]} {r.history['val_true_positives'][val]}   {r.history['val_false_negatives'][val]}\")\n",
        "  "
      ],
      "metadata": {
        "colab": {
          "base_uri": "https://localhost:8080/"
        },
        "id": "rqfpejpWbNtN",
        "outputId": "0b2f5534-4311-4880-f3ff-d51e0972a923"
      },
      "execution_count": null,
      "outputs": [
        {
          "output_type": "stream",
          "name": "stdout",
          "text": [
            "Name     TN     FP     TP      FN\n",
            "0    128964.0 1743.0 10607.0   3916.0\n",
            "1    129378.0 1329.0 12457.0   2066.0\n",
            "2    129587.0 1120.0 12906.0   1617.0\n",
            "3    129656.0 1051.0 13133.0   1390.0\n",
            "4    129740.0 967.0 13259.0   1264.0\n",
            "5    129801.0 906.0 13384.0   1139.0\n",
            "6    129880.0 827.0 13468.0   1055.0\n",
            "7    129877.0 830.0 13510.0   1013.0\n",
            "8    130014.0 693.0 13682.0   841.0\n",
            "9    130066.0 641.0 13759.0   764.0\n",
            "\n",
            "\n",
            "Name     TN     FP      TP      FN\n",
            "0    32285.0 448.0 2981.0   656.0\n",
            "1    32385.0 348.0 3150.0   487.0\n",
            "2    32314.0 419.0 3081.0   556.0\n",
            "3    32256.0 477.0 3069.0   568.0\n",
            "4    32340.0 393.0 3178.0   459.0\n",
            "5    32463.0 270.0 3297.0   340.0\n",
            "6    32403.0 330.0 3252.0   385.0\n",
            "7    32345.0 388.0 3196.0   441.0\n",
            "8    32273.0 460.0 3125.0   512.0\n",
            "9    32490.0 243.0 3367.0   270.0\n"
          ]
        }
      ]
    },
    {
      "cell_type": "code",
      "execution_count": null,
      "metadata": {
        "id": "B3ti_KfB3IGB"
      },
      "outputs": [],
      "source": [
        "# save it as a h5 file\n",
        "from tensorflow.keras.models import load_model\n",
        "\n",
        "model.save('/content/drive/MyDrive/ColabNotebooks/model_vgg16.h5')"
      ]
    },
    {
      "cell_type": "code",
      "execution_count": null,
      "metadata": {
        "id": "SBo35REz3IGB"
      },
      "outputs": [],
      "source": []
    },
    {
      "cell_type": "code",
      "execution_count": null,
      "metadata": {
        "id": "cPHtn8353IGC"
      },
      "outputs": [],
      "source": [
        "\n",
        "y_pred = model.predict(training_set)\n"
      ]
    },
    {
      "cell_type": "code",
      "execution_count": null,
      "metadata": {
        "id": "mlsXZVkz3IGC",
        "outputId": "9cdda696-c4da-426c-f6f4-d1bd3a0f6ee1"
      },
      "outputs": [
        {
          "data": {
            "text/plain": [
              "array([[9.7594190e-01, 6.4871991e-03, 4.2272510e-04, 1.7148238e-02],\n",
              "       [9.9938118e-01, 8.6601387e-05, 3.2729688e-04, 2.0490818e-04],\n",
              "       [2.3492565e-02, 6.3784618e-04, 2.3015366e-04, 9.7563952e-01],\n",
              "       ...,\n",
              "       [5.9526311e-03, 9.9352646e-01, 1.5324376e-04, 3.6766563e-04],\n",
              "       [1.9066084e-02, 2.9304210e-02, 2.2898390e-04, 9.5140064e-01],\n",
              "       [5.1401998e-03, 9.8183732e-03, 9.7884554e-03, 9.7525305e-01]],\n",
              "      dtype=float32)"
            ]
          },
          "execution_count": 78,
          "metadata": {},
          "output_type": "execute_result"
        }
      ],
      "source": [
        "y_pred"
      ]
    },
    {
      "cell_type": "code",
      "execution_count": null,
      "metadata": {
        "id": "MDGbhdTI3IGC"
      },
      "outputs": [],
      "source": [
        "import numpy as np\n",
        "y_pred = np.argmax(y_pred, axis=1)"
      ]
    },
    {
      "cell_type": "code",
      "execution_count": null,
      "metadata": {
        "id": "JWvvbmqG3IGC",
        "outputId": "cc38c2aa-b667-48d7-d607-97121de00889"
      },
      "outputs": [
        {
          "data": {
            "text/plain": [
              "array([0, 0, 3, ..., 1, 3, 3], dtype=int64)"
            ]
          },
          "execution_count": 80,
          "metadata": {},
          "output_type": "execute_result"
        }
      ],
      "source": [
        "y_pred"
      ]
    },
    {
      "cell_type": "code",
      "execution_count": null,
      "metadata": {
        "id": "LxdSSqzD3IGC"
      },
      "outputs": [],
      "source": [
        "#prediction = model.predict_generator(test_set)\n",
        "true_class = training_set.classes\n",
        "class_label = list(training_set.class_indices.keys())"
      ]
    },
    {
      "cell_type": "code",
      "execution_count": null,
      "metadata": {
        "id": "Oe6j1SY13IGC",
        "outputId": "fe557331-bfa0-4e4a-c5bb-b6f17346d1b9"
      },
      "outputs": [
        {
          "data": {
            "text/plain": [
              "array([0, 0, 0, ..., 3, 3, 3])"
            ]
          },
          "execution_count": 87,
          "metadata": {},
          "output_type": "execute_result"
        }
      ],
      "source": [
        "true_class"
      ]
    },
    {
      "cell_type": "code",
      "execution_count": null,
      "metadata": {
        "id": "jPKSHhLL3IGD",
        "outputId": "e14d336b-e405-4d53-ae7f-a902d4c1a6bc"
      },
      "outputs": [
        {
          "name": "stdout",
          "output_type": "stream",
          "text": [
            "36.35646687697161\n",
            "                          precision    recall  f1-score   support\n",
            "\n",
            "      Apple___Apple_scab       0.20      0.20      0.20       504\n",
            "       Apple___Black_rot       0.21      0.21      0.21       496\n",
            "Apple___Cedar_apple_rust       0.11      0.11      0.11       220\n",
            "         Apple___healthy       0.53      0.52      0.53      1316\n",
            "\n",
            "                accuracy                           0.36      2536\n",
            "               macro avg       0.26      0.26      0.26      2536\n",
            "            weighted avg       0.37      0.36      0.36      2536\n",
            "\n"
          ]
        }
      ],
      "source": [
        "from sklearn import metrics\n",
        "predicted_classes = y_pred\n",
        "\n",
        "report = metrics.classification_report(true_class, predicted_classes, target_names=class_label)\n",
        "print(metrics.accuracy_score(true_class , predicted_classes)*100)\n",
        "print(report)    "
      ]
    },
    {
      "cell_type": "code",
      "execution_count": null,
      "metadata": {
        "id": "utClNco23IGD",
        "outputId": "e9b68dec-c2e5-4a71-f9e5-6a6d34a08b27"
      },
      "outputs": [
        {
          "data": {
            "text/plain": [
              "array([[103,  94,  45, 262],\n",
              "       [102, 106,  40, 248],\n",
              "       [ 47,  48,  24, 101],\n",
              "       [275, 249, 103, 689]], dtype=int64)"
            ]
          },
          "execution_count": 84,
          "metadata": {},
          "output_type": "execute_result"
        }
      ],
      "source": [
        "confusion_matrix = metrics.confusion_matrix(y_true=true_class, y_pred=y_pred)\n",
        "confusion_matrix"
      ]
    },
    {
      "cell_type": "code",
      "execution_count": null,
      "metadata": {
        "id": "NFqWRcEd3IGD"
      },
      "outputs": [],
      "source": [
        "from tensorflow.keras.models import load_model\n",
        "from tensorflow.keras.preprocessing import image"
      ]
    },
    {
      "cell_type": "code",
      "execution_count": null,
      "metadata": {
        "id": "Xop9RCPu3IGD"
      },
      "outputs": [],
      "source": [
        "model=load_model('model_resnet50.h5')"
      ]
    },
    {
      "cell_type": "code",
      "execution_count": null,
      "metadata": {
        "id": "mScd0joJ3IGD",
        "outputId": "133ecd2c-9068-40e1-851a-0cbbf2c36388"
      },
      "outputs": [
        {
          "data": {
            "text/plain": [
              "array([[[[ 6.7060997e+01,  5.4221001e+01,  4.7320000e+01],\n",
              "         [ 6.9060997e+01,  5.6221001e+01,  4.9320000e+01],\n",
              "         [ 7.3060997e+01,  6.0221001e+01,  5.3320000e+01],\n",
              "         ...,\n",
              "         [ 7.4060997e+01,  5.6221001e+01,  4.6320000e+01],\n",
              "         [ 5.5060997e+01,  3.7221001e+01,  2.7320000e+01],\n",
              "         [ 4.1060997e+01,  2.3221001e+01,  1.3320000e+01]],\n",
              "\n",
              "        [[ 7.5060997e+01,  6.2221001e+01,  5.5320000e+01],\n",
              "         [ 7.8060997e+01,  6.5221001e+01,  5.8320000e+01],\n",
              "         [ 8.1060997e+01,  6.8221001e+01,  6.1320000e+01],\n",
              "         ...,\n",
              "         [ 9.7060997e+01,  7.9221001e+01,  6.9320000e+01],\n",
              "         [ 7.3060997e+01,  5.5221001e+01,  4.5320000e+01],\n",
              "         [ 4.9060997e+01,  3.1221001e+01,  2.1320000e+01]],\n",
              "\n",
              "        [[ 8.7060997e+01,  7.4221001e+01,  6.7320000e+01],\n",
              "         [ 9.0060997e+01,  7.7221001e+01,  7.0320000e+01],\n",
              "         [ 9.3060997e+01,  8.0221001e+01,  7.3320000e+01],\n",
              "         ...,\n",
              "         [ 1.0106100e+02,  8.3221001e+01,  7.3320000e+01],\n",
              "         [ 7.5060997e+01,  5.7221001e+01,  4.7320000e+01],\n",
              "         [ 5.0060997e+01,  3.2221001e+01,  2.2320000e+01]],\n",
              "\n",
              "        ...,\n",
              "\n",
              "        [[ 1.0406100e+02,  8.9221001e+01,  9.4320000e+01],\n",
              "         [ 1.0206100e+02,  8.7221001e+01,  9.2320000e+01],\n",
              "         [ 9.9060997e+01,  8.4221001e+01,  8.9320000e+01],\n",
              "         ...,\n",
              "         [-1.0939003e+01, -1.6778999e+01, -1.4680000e+01],\n",
              "         [-1.0939003e+01, -1.6778999e+01, -1.4680000e+01],\n",
              "         [-1.0939003e+01, -1.6778999e+01, -1.4680000e+01]],\n",
              "\n",
              "        [[ 1.0606100e+02,  9.1221001e+01,  9.6320000e+01],\n",
              "         [ 1.0406100e+02,  8.9221001e+01,  9.4320000e+01],\n",
              "         [ 1.0006100e+02,  8.5221001e+01,  9.0320000e+01],\n",
              "         ...,\n",
              "         [-5.9390030e+00, -1.1778999e+01, -9.6800003e+00],\n",
              "         [-5.9390030e+00, -1.1778999e+01, -9.6800003e+00],\n",
              "         [-5.9390030e+00, -1.1778999e+01, -9.6800003e+00]],\n",
              "\n",
              "        [[ 1.0806100e+02,  9.4221001e+01,  9.6320000e+01],\n",
              "         [ 1.0606100e+02,  9.2221001e+01,  9.4320000e+01],\n",
              "         [ 1.0206100e+02,  8.8221001e+01,  9.0320000e+01],\n",
              "         ...,\n",
              "         [ 6.0997009e-02, -5.7789993e+00, -3.6800003e+00],\n",
              "         [ 6.0997009e-02, -5.7789993e+00, -3.6800003e+00],\n",
              "         [ 6.0997009e-02, -5.7789993e+00, -3.6800003e+00]]]],\n",
              "      dtype=float32)"
            ]
          },
          "execution_count": 39,
          "metadata": {},
          "output_type": "execute_result"
        }
      ],
      "source": [
        "img_data"
      ]
    },
    {
      "cell_type": "code",
      "execution_count": null,
      "metadata": {
        "id": "K7XxzIqd3IGD"
      },
      "outputs": [],
      "source": [
        "img=image.load_img('Datasets/Test/Coffee/download (2).jpg',target_size=(224,224))\n",
        "\n"
      ]
    },
    {
      "cell_type": "code",
      "execution_count": null,
      "metadata": {
        "id": "8jwJGeof3IGE",
        "outputId": "d423d375-7704-4226-9a9c-0ae168a97c31"
      },
      "outputs": [
        {
          "data": {
            "text/plain": [
              "array([[[254., 254., 254.],\n",
              "        [254., 254., 254.],\n",
              "        [254., 254., 254.],\n",
              "        ...,\n",
              "        [254., 254., 254.],\n",
              "        [255., 255., 255.],\n",
              "        [255., 255., 255.]],\n",
              "\n",
              "       [[254., 254., 254.],\n",
              "        [254., 254., 254.],\n",
              "        [254., 254., 254.],\n",
              "        ...,\n",
              "        [254., 254., 254.],\n",
              "        [255., 255., 255.],\n",
              "        [255., 255., 255.]],\n",
              "\n",
              "       [[254., 254., 254.],\n",
              "        [254., 254., 254.],\n",
              "        [254., 254., 254.],\n",
              "        ...,\n",
              "        [254., 254., 254.],\n",
              "        [255., 255., 255.],\n",
              "        [255., 255., 255.]],\n",
              "\n",
              "       ...,\n",
              "\n",
              "       [[255., 255., 255.],\n",
              "        [255., 255., 255.],\n",
              "        [255., 255., 255.],\n",
              "        ...,\n",
              "        [255., 255., 255.],\n",
              "        [255., 255., 255.],\n",
              "        [255., 255., 255.]],\n",
              "\n",
              "       [[255., 255., 255.],\n",
              "        [255., 255., 255.],\n",
              "        [255., 255., 255.],\n",
              "        ...,\n",
              "        [255., 255., 255.],\n",
              "        [255., 255., 255.],\n",
              "        [255., 255., 255.]],\n",
              "\n",
              "       [[255., 255., 255.],\n",
              "        [255., 255., 255.],\n",
              "        [255., 255., 255.],\n",
              "        ...,\n",
              "        [255., 255., 255.],\n",
              "        [255., 255., 255.],\n",
              "        [255., 255., 255.]]], dtype=float32)"
            ]
          },
          "execution_count": 12,
          "metadata": {},
          "output_type": "execute_result"
        }
      ],
      "source": [
        "x=image.img_to_array(img)\n",
        "x"
      ]
    },
    {
      "cell_type": "code",
      "execution_count": null,
      "metadata": {
        "id": "cAAutNox3IGE",
        "outputId": "45faffc9-4e5f-45af-9b4b-5f219b8c0182"
      },
      "outputs": [
        {
          "data": {
            "text/plain": [
              "(224, 224, 3)"
            ]
          },
          "execution_count": 13,
          "metadata": {},
          "output_type": "execute_result"
        }
      ],
      "source": [
        "x.shape"
      ]
    },
    {
      "cell_type": "code",
      "execution_count": null,
      "metadata": {
        "id": "0GApkv-43IGE"
      },
      "outputs": [],
      "source": [
        "x=x/255"
      ]
    },
    {
      "cell_type": "code",
      "execution_count": null,
      "metadata": {
        "id": "DoDDTu-l3IGE",
        "outputId": "d3fc2f86-4822-40d1-a249-9c136a489f8f"
      },
      "outputs": [
        {
          "data": {
            "text/plain": [
              "(1, 224, 224, 3)"
            ]
          },
          "execution_count": 15,
          "metadata": {},
          "output_type": "execute_result"
        }
      ],
      "source": [
        "import numpy as np\n",
        "x=np.expand_dims(x,axis=0)\n",
        "img_data=preprocess_input(x)\n",
        "img_data.shape"
      ]
    },
    {
      "cell_type": "code",
      "execution_count": null,
      "metadata": {
        "id": "7tgO87xD3IGE",
        "outputId": "b5317eb2-1433-4642-d0fd-656b4ff499ff"
      },
      "outputs": [
        {
          "data": {
            "text/plain": [
              "array([[0.9745471, 0.0254529]], dtype=float32)"
            ]
          },
          "execution_count": 16,
          "metadata": {},
          "output_type": "execute_result"
        }
      ],
      "source": [
        "model.predict(img_data)"
      ]
    },
    {
      "cell_type": "code",
      "execution_count": null,
      "metadata": {
        "id": "8UxkiVd03IGE"
      },
      "outputs": [],
      "source": [
        "a=np.argmax(model.predict(img_data), axis=1)"
      ]
    },
    {
      "cell_type": "code",
      "execution_count": null,
      "metadata": {
        "id": "rMrYJHnT3IGE",
        "outputId": "32c72430-724d-4405-efb3-a9580b27e437"
      },
      "outputs": [
        {
          "data": {
            "text/plain": [
              "array([ True])"
            ]
          },
          "execution_count": 102,
          "metadata": {},
          "output_type": "execute_result"
        }
      ],
      "source": [
        "a==1"
      ]
    }
  ],
  "metadata": {
    "kernelspec": {
      "display_name": "Python 3",
      "language": "python",
      "name": "python3"
    },
    "language_info": {
      "codemirror_mode": {
        "name": "ipython",
        "version": 3
      },
      "file_extension": ".py",
      "mimetype": "text/x-python",
      "name": "python",
      "nbconvert_exporter": "python",
      "pygments_lexer": "ipython3",
      "version": "3.9.7"
    },
    "colab": {
      "provenance": []
    },
    "accelerator": "GPU"
  },
  "nbformat": 4,
  "nbformat_minor": 0
}